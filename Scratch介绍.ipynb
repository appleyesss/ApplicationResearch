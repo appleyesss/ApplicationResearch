{
 "cells": [
  {
   "cell_type": "markdown",
   "metadata": {},
   "source": [
    "# Scratch3.0"
   ]
  },
  {
   "cell_type": "markdown",
   "metadata": {},
   "source": [
    "## 一.简要介绍"
   ]
  },
  {
   "cell_type": "markdown",
   "metadata": {},
   "source": [
    "  Scratch是由MIT（麻省理工学院）米切尔·瑞斯尼克(Mitch Resnick)教授带领的“终身幼儿园团队”开发的一款积木式少儿编程软件。Scratch语言保留了最关键的计算机概念和编程的核心思想，通过类似拖动积木块的方式和使用软件中的素材，可以很容易地创造有趣的动画、游戏，以及控制机器人和电子设备等。成品可以通过软件直接发布到官方网站上，官方网站给每个注册用户开通了一个个人空间，放置发布的程序，方便用户之间交流。\n",
    "  \n",
    "  Scratch中文社区网址：https://www.scratch-cn.cn/\n",
    "  \n",
    "  Scratch国际社区网址：http://scratch.mit.edu\n",
    "  \n",
    "  （建议使用浏览器：Chrome 或 Edge）"
   ]
  },
  {
   "cell_type": "markdown",
   "metadata": {},
   "source": [
    "**图1 Scratch中文社区网页页面**\n",
    "\n",
    "![](./pics/页面.png)"
   ]
  },
  {
   "cell_type": "markdown",
   "metadata": {},
   "source": [
    "## 二.使用说明"
   ]
  },
  {
   "cell_type": "markdown",
   "metadata": {},
   "source": [
    "使用Scratch语言进行编程有两种方式：\n",
    "\n",
    "一、直接访问官网（<https://www.scratch-cn.cn/>） 并在线编辑。需要注册用户并登录，未登录状态作品将无法在线保存于用户仓库；未登录状态下可以选择文件保存在本地。\n",
    "\n",
    "二、下载软件（离线编辑器）在电脑本地进行编辑，不需要注册登录用户，可点击保存在本地。\n",
    "\n",
    "两种编程方式操作页面相同，保存路径差异已说明。\n",
    "\n",
    "离线版桌面下载方式：\n",
    "\n",
    "点击链接下载：https://pan.baidu.com/s/1wwrKkJTEuiyHu39Uir1Scg ，提取码为1234\n",
    "\n",
    "其中Windows版：.exe  /  macos（苹果）版：.dmg ，选择对应系统版本进行下载，并打开在本地安装。"
   ]
  },
  {
   "cell_type": "markdown",
   "metadata": {},
   "source": [
    "**图2 Scratch操作页面**\n",
    "\n",
    "![图2 Scratch操作页面](./pics/操作界面介绍.png)"
   ]
  },
  {
   "cell_type": "markdown",
   "metadata": {},
   "source": [
    "Scratch操作页面从左到右，依次为代码块区，编辑区和展示区。代码块区可以选择编辑板块，包括代码，造型，声音板块，其中造型和声音主要对于角色变量进行编辑，代码包含了以下板块：\n",
    "\n",
    "- 运动：如前进、后退、旋转等。\n",
    "- 外观：如改变颜色、大小，显示或隐藏等。\n",
    "- 声音：播放声音，对声音进行各种处理。\n",
    "- 事件：对事件进行控制监测，如鼠标点击，按下空格键等。\n",
    "- 控制：控制程序的运行，如重复运行，程序判断等。\n",
    "- 侦测：对状态进行侦测，如碰撞检测，当前的时间等。\n",
    "- 运算： 如加减乘除、大于号、小于号等。\n",
    "- 变量：创建我的变量，显示或隐藏。\n",
    "- 自制积木：自定义的积木，提供更多编辑需求。\n",
    "- 画笔：绘制，改变颜色线条粗线；擦除。\n",
    "\n",
    "编辑区通过拖拽代码区的板块进行编辑和撤销，可以同时编辑多条以及针对多个角色进行编辑。如图所示，选择角色1，通过拖拽代码区点击运行按钮，重复执行下个造型，可使角色1呈现动态。\n",
    "\n",
    "点击运行按钮或触发运行条件后，展示区即显示编辑效果；点击停止按钮，可停止运行，进行编辑修改等。选择变量区可以添加角色、背景，同时包括调整角色位置大小等功能，提供更多可编辑对象。\n",
    "\n",
    "编辑完成，可以选择文件保存到本地，后续可再通过电脑上传至网页或桌面应用进行展示、编辑。"
   ]
  },
  {
   "cell_type": "markdown",
   "metadata": {},
   "source": [
    "## 三.具体案例"
   ]
  },
  {
   "cell_type": "markdown",
   "metadata": {},
   "source": [
    "### 1.百分比进条"
   ]
  },
  {
   "cell_type": "markdown",
   "metadata": {},
   "source": [
    "<https://www.scratch-cn.cn/project/?comid=60eadd8efd5554102c3f9eba>"
   ]
  },
  {
   "cell_type": "markdown",
   "metadata": {},
   "source": [
    "页面显示百分比进条，点击运行按钮，程序开始运行，通过页面拖拽十位，个位按钮，进度条在0%-100%之间以整数变化。当进度条为100%，百位从0显示为1。"
   ]
  },
  {
   "cell_type": "markdown",
   "metadata": {},
   "source": [
    "**图3 百分比进条效果及源码**"
   ]
  },
  {
   "cell_type": "markdown",
   "metadata": {},
   "source": [
    "![](./pics/百分比.png)"
   ]
  },
  {
   "cell_type": "markdown",
   "metadata": {},
   "source": [
    "下面对此项目的编辑过程和源码进行具体说明。此项目的预期效果是，进度条可以随百分比数值变化而相应位移。百分比进条项目创建了百位，十位，个位变量，添加了五个角色包括百位计量，十位计量，个位计量，角色1，进度条。\n",
    "\n",
    "- 变量和角色1为显示功能，可以通过鼠标点击进行位移，输入大小，方向后可以改变形态。\n",
    "\n",
    "**图4 变量及角色1**\n",
    "![](./pics/角色1.png)\n",
    "\n"
   ]
  },
  {
   "cell_type": "markdown",
   "metadata": {},
   "source": [
    "- 角色个位/十位/百位计量"
   ]
  },
  {
   "cell_type": "markdown",
   "metadata": {},
   "source": [
    "当运行按钮点击，个位计量初始值设置为0。移动个位下进度条可改变数值，即个位造型。当十位为10时，个位为0并在展示区隐藏。效果页面会显示100%，即百位为1，十位为10，显示角色1。十位计量的代码与个位计量相似，流程为点击运行，初始值为0，通过拖动改变数值，数值为0是不在展示区显示。百位计量初始值也为0，当十位为10时，百位显示为1，当十位小于10时，百位数值为0，并隐藏即不会在展示区显示。\n",
    "角色个位/十位/百位计量主要运用了如果/那么代码，重复执行代码，scratch已在代码区内置这两个模块，通过拖拽至编辑区即可进行编辑。如果/那么代码通过“如果”设置触发条件，“那么”表示条件下结果；重复代码体现循环语句。通过设置三个计量角色之间的条件限制，在展示区显示百分比数值变化。"
   ]
  },
  {
   "cell_type": "markdown",
   "metadata": {},
   "source": [
    "**图5 角色个位/十位/百位计量说明**"
   ]
  },
  {
   "cell_type": "markdown",
   "metadata": {},
   "source": [
    "![](./pics/个位.png)"
   ]
  },
  {
   "cell_type": "markdown",
   "metadata": {},
   "source": [
    "![](./pics/十位.png)"
   ]
  },
  {
   "cell_type": "markdown",
   "metadata": {},
   "source": [
    "![](./pics/百位.png)"
   ]
  },
  {
   "cell_type": "markdown",
   "metadata": {},
   "source": [
    "- 进度条"
   ]
  },
  {
   "cell_type": "markdown",
   "metadata": {},
   "source": [
    "进度条使用画笔模块，点击运行按钮，设置初始位置，根据进度（显示数值）进行x位移，因为想要水平方向上移动，所以不改变y值大小。x位移通过改变x数值进行，在初始数值上进增加，由于预期效果是进度条根据数值变化而相应移动，所以进度基础上进行x数值增加，达到移动效果。"
   ]
  },
  {
   "cell_type": "markdown",
   "metadata": {},
   "source": [
    "**图6 角色进度条**"
   ]
  },
  {
   "cell_type": "markdown",
   "metadata": {},
   "source": [
    "![](./pics/进度条.png)"
   ]
  },
  {
   "cell_type": "markdown",
   "metadata": {},
   "source": [
    "### 2.跑酷引擎"
   ]
  },
  {
   "cell_type": "markdown",
   "metadata": {},
   "source": [
    "<https://www.scratch-cn.cn/project/?comid=604cbb8032632c158c4c40e3>"
   ]
  },
  {
   "cell_type": "markdown",
   "metadata": {},
   "source": [
    "跑酷引擎项目的预期效果为，通过键盘或鼠标进行对物体位置的控制。跑酷引擎类项目主要控制物体移动，通过设置运动方向，位移，触发条件来控制物体移动。同时此项目为物体添加动态效果。点击运行按钮，通过键盘和拖拽控制物体在上左右方向移动。在编辑流程中依然使用大量如果/那么代码和重复执行，相比百分比进度项目，在此项目中嵌套多层如果/那么代码，呈现更多动态效果。"
   ]
  },
  {
   "cell_type": "markdown",
   "metadata": {},
   "source": [
    "**图 跑酷引擎效果及源码**"
   ]
  },
  {
   "cell_type": "markdown",
   "metadata": {},
   "source": [
    "![](./pics/跑酷引擎.png)"
   ]
  },
  {
   "cell_type": "markdown",
   "metadata": {},
   "source": [
    "在此项目基础上考虑画面，音乐等设计后，可以形成一款成熟的跑酷类游戏，例如“HOBBS的家”等。\n",
    "\n",
    "(<https://www.scratch-cn.cn/project/?comid=60d6acae9d51a71774b81439>)"
   ]
  },
  {
   "cell_type": "markdown",
   "metadata": {},
   "source": [
    "### 3.猜数字"
   ]
  },
  {
   "cell_type": "markdown",
   "metadata": {},
   "source": [
    "<https://www.scratch-cn.cn/create?t=rel&pro=600e586c02d47b1b487657a1>"
   ]
  },
  {
   "cell_type": "markdown",
   "metadata": {},
   "source": [
    "猜数字项目预期达成对输入文本（数值）大小进行判断。猜数字项目主要是运用了条件语句和判断语句，可生成随机数通过对输入内容的判断决定程序下一步运行。点击运行，选择“初级”、“中级”、“高级”并显示颜色变化，通过输入数字，判断大小，输入正确数字可进入下一模块。猜数字项目结合了物体运动，动态效果，运算和控制等。相比前两个项目，猜数字项目并不注重动态效果，主要在模块过渡里运用。在此项目中更多呈现复杂的条件代码运用，同时添加了更多的角色和变量，考虑了角色之间的关联性。"
   ]
  },
  {
   "cell_type": "markdown",
   "metadata": {},
   "source": [
    "**图 猜数字效果及源码**"
   ]
  },
  {
   "cell_type": "markdown",
   "metadata": {},
   "source": [
    "![](./pics/猜数字.png)"
   ]
  },
  {
   "cell_type": "markdown",
   "metadata": {},
   "source": [
    "## 四.调研总结"
   ]
  },
  {
   "cell_type": "markdown",
   "metadata": {},
   "source": [
    "Scratch作为一个面向少儿的编程平台，特点在于无代码拖拽式编程，同时作为一个开源社区，用户通过创建仓库以及发布项目，促进用户间交流。在Scratch编程平台中，预设了代码板块，更多在于对用户逻辑的训练。通过拖拽代码至编辑区，即可进行编辑并运行出预期效果，不需要计算机高级语言的编写，降低了编程的技术门槛，让没有计算机语言基础的人可以参与编程，促进计算机编程平民化。\n",
    "Scratch的拖拽编程原理可以在更多业务场合进行开发运用，使计算机编程技术更好地服务于社会发展。"
   ]
  }
 ],
 "metadata": {
  "kernelspec": {
   "display_name": "Python 3",
   "language": "python",
   "name": "python3"
  },
  "language_info": {
   "codemirror_mode": {
    "name": "ipython",
    "version": 3
   },
   "file_extension": ".py",
   "mimetype": "text/x-python",
   "name": "python",
   "nbconvert_exporter": "python",
   "pygments_lexer": "ipython3",
   "version": "3.7.3"
  }
 },
 "nbformat": 4,
 "nbformat_minor": 4
}
